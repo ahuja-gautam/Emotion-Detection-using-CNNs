{
 "cells": [
  {
   "cell_type": "markdown",
   "metadata": {
    "colab_type": "text",
    "id": "giW-n_7lNeJ5"
   },
   "source": [
    "Run this file on your device (jupyter) and not via Colab as there are some difficulties in hardware access online."
   ]
  },
  {
   "cell_type": "code",
   "execution_count": 1,
   "metadata": {
    "colab": {
     "base_uri": "https://localhost:8080/",
     "height": 34
    },
    "colab_type": "code",
    "executionInfo": {
     "elapsed": 3104,
     "status": "ok",
     "timestamp": 1562045954869,
     "user": {
      "displayName": "GAUTAM AHUJA",
      "photoUrl": "",
      "userId": "12784972831161845817"
     },
     "user_tz": -330
    },
    "id": "hgzbWxMwMXot",
    "outputId": "bcbcf4b4-b272-4cbc-e343-44f5c995e0ce"
   },
   "outputs": [
    {
     "name": "stderr",
     "output_type": "stream",
     "text": [
      "C:\\Users\\Gautam\\Anaconda3\\lib\\site-packages\\h5py\\__init__.py:36: FutureWarning: Conversion of the second argument of issubdtype from `float` to `np.floating` is deprecated. In future, it will be treated as `np.float64 == np.dtype(float).type`.\n",
      "  from ._conv import register_converters as _register_converters\n",
      "Using TensorFlow backend.\n"
     ]
    }
   ],
   "source": [
    "import cv2\n",
    "from keras.models import load_model\n",
    "import numpy as np\n",
    "import matplotlib.pyplot as plt\n",
    "plt.axis([0, 30, 0, 2])\n",
    "\n",
    "%matplotlib inline\n",
    "import time"
   ]
  },
  {
   "cell_type": "code",
   "execution_count": 2,
   "metadata": {
    "colab": {
     "base_uri": "https://localhost:8080/",
     "height": 404
    },
    "colab_type": "code",
    "executionInfo": {
     "elapsed": 2611,
     "status": "error",
     "timestamp": 1562045954875,
     "user": {
      "displayName": "GAUTAM AHUJA",
      "photoUrl": "",
      "userId": "12784972831161845817"
     },
     "user_tz": -330
    },
    "id": "DFBUeyfGMXo1",
    "outputId": "1c7d88fc-a6ce-4599-e7ee-28dd5892dcd4"
   },
   "outputs": [],
   "source": [
    "model=load_model('model_1.h5')"
   ]
  },
  {
   "cell_type": "code",
   "execution_count": 3,
   "metadata": {
    "colab": {},
    "colab_type": "code",
    "id": "wNWrB4rBMXo3"
   },
   "outputs": [],
   "source": [
    "emotions=['Angry', 'Disgust', 'Fear', 'Happy', 'Sad', 'Surprise', 'Neutral']"
   ]
  },
  {
   "cell_type": "code",
   "execution_count": 4,
   "metadata": {
    "colab": {
     "base_uri": "https://localhost:8080/",
     "height": 229
    },
    "colab_type": "code",
    "executionInfo": {
     "elapsed": 760,
     "status": "error",
     "timestamp": 1562046051947,
     "user": {
      "displayName": "GAUTAM AHUJA",
      "photoUrl": "",
      "userId": "12784972831161845817"
     },
     "user_tz": -330
    },
    "id": "_ndpbNbeMXo9",
    "outputId": "bd8bd135-f836-4f84-c985-6d50ebe89b41"
   },
   "outputs": [],
   "source": [
    "cap= cv2.VideoCapture(0)\n",
    "fourcc = cv2.VideoWriter_fourcc('m','p','4','v')\n",
    "out = cv2.VideoWriter('Emotions.mp4v', fourcc, 20.0, (640, 480))\n",
    "emotion_index=[]\n",
    "base=time.time()\n",
    "x_vec=[]\n",
    "while(True):\n",
    "    x=time.time()-base\n",
    "    x_vec.append(x)\n",
    "    ret, frame=cap.read()\n",
    "    frame=cv2.flip(frame,1)\n",
    "    gray = cv2.cvtColor(frame, cv2.COLOR_BGR2GRAY)\n",
    "    copy=gray[100:300,200:400].copy()\n",
    "    copy=cv2.resize(copy, (48,48))\n",
    "    copy=copy/255.0\n",
    "    emotion=emotions[model.predict(copy.reshape(-1,48,48,1)).argmax()] ##add .argmax()\n",
    "    emotion_index.append(emotion)\n",
    "    graywrectangle=cv2.rectangle(gray,(200,100),(400,300),(0,255,0),1)\n",
    "    font                   = cv2.FONT_HERSHEY_SIMPLEX\n",
    "    bottomLeftCornerOfText = (100,400)\n",
    "    fontScale              = 0.5\n",
    "    fontColor              = (255,255,255)\n",
    "    lineType               = 2   \n",
    "    \n",
    "    cv2.putText(graywrectangle,emotion, \n",
    "    bottomLeftCornerOfText, \n",
    "    font, \n",
    "    fontScale,\n",
    "    fontColor,\n",
    "    lineType)\n",
    "    \n",
    "    cv2.putText(graywrectangle,\"Gautam Ahuja, 2019: Press q to exit\", \n",
    "    (10,10), \n",
    "    font, \n",
    "    fontScale,\n",
    "    fontColor,\n",
    "    1)\n",
    "    \n",
    "    cv2.putText(graywrectangle,\"Illuminate your face with a evenly to see results\", \n",
    "    (10,30), \n",
    "    font, \n",
    "    fontScale,\n",
    "    fontColor,\n",
    "    1)\n",
    "    \n",
    "   \n",
    "    # Display the resulting frame\n",
    "    cv2.imshow('frame',graywrectangle)\n",
    "    out.write(graywrectangle)\n",
    "    if cv2.waitKey(1) & 0xFF == ord('q'):\n",
    "        break\n",
    "cap.release()\n",
    "out.release()\n",
    "cv2.destroyAllWindows()"
   ]
  },
  {
   "cell_type": "code",
   "execution_count": 7,
   "metadata": {
    "colab": {},
    "colab_type": "code",
    "id": "tuPu-f9IMXpA",
    "outputId": "7f823aa6-f089-431b-b868-3e2b6bade14c"
   },
   "outputs": [
    {
     "data": {
      "text/plain": [
       "Text(0,0.5,'Emotions')"
      ]
     },
     "execution_count": 7,
     "metadata": {},
     "output_type": "execute_result"
    },
    {
     "data": {
      "image/png": "[encoded data removed]",
      "text/plain": [
       "<Figure size 921.6x633.6 with 1 Axes>"
      ]
     },
     "metadata": {},
     "output_type": "display_data"
    }
   ],
   "source": [
    "plt.style.use('ggplot')\n",
    "plt.scatter(x_vec, emotion_index, s=35)\n",
    "plt.xlabel(\"Time\")\n",
    "plt.ylabel(\"Emotions\")"
   ]
  },
  {
   "cell_type": "markdown",
   "metadata": {
    "colab_type": "text",
    "id": "ZFjtl4uoNQzt"
   },
   "source": [
    "We plotted a graph of the varying emotions with time in the video that was captured."
   ]
  },
  {
   "cell_type": "code",
   "execution_count": 0,
   "metadata": {
    "colab": {},
    "colab_type": "code",
    "id": "KymYv7EYMXpH"
   },
   "outputs": [],
   "source": []
  }
 ],
 "metadata": {
  "colab": {
   "collapsed_sections": [],
   "name": "main.ipynb",
   "provenance": [],
   "version": "0.3.2"
  },
  "kernelspec": {
   "display_name": "Python 3",
   "language": "python",
   "name": "python3"
  },
  "language_info": {
   "codemirror_mode": {
    "name": "ipython",
    "version": 3
   },
   "file_extension": ".py",
   "mimetype": "text/x-python",
   "name": "python",
   "nbconvert_exporter": "python",
   "pygments_lexer": "ipython3",
   "version": "3.6.5"
  }
 },
 "nbformat": 4,
 "nbformat_minor": 1
}
